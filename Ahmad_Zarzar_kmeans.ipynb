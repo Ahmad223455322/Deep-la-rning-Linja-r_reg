{
 "cells": [
  {
   "cell_type": "code",
   "execution_count": 125,
   "metadata": {},
   "outputs": [],
   "source": [
    "import numpy as np\n",
    "import pandas as pd\n",
    "from sklearn.decomposition import PCA\n",
    "import matplotlib.pyplot as plt\n",
    "from collections import Counter \n",
    "from sklearn.neighbors import KNeighborsClassifier\n",
    "from sklearn.metrics import plot_confusion_matrix,accuracy_score\n"
   ]
  },
  {
   "cell_type": "code",
   "execution_count": 126,
   "metadata": {},
   "outputs": [],
   "source": [
    "def pca_transformation(data):\n",
    "    pca = PCA(n_components=2)\n",
    "    principal_components = pca.fit_transform(data)\n",
    "    principal_df = pd.DataFrame(data = principal_components\n",
    "             ,columns = ['principal component 1', 'principal component 2'])\n",
    "    return principal_df"
   ]
  },
  {
   "cell_type": "code",
   "execution_count": 127,
   "metadata": {},
   "outputs": [],
   "source": [
    "def calculate_error(a,b):\n",
    "    '''\n",
    "    Given two Numpy Arrays, calculates the root of the sum of squared errores.\n",
    "    '''\n",
    "    error = np.square(np.sum((a-b)**2))\n",
    "\n",
    "    return error   \n",
    "\n",
    "\n",
    "\n",
    "def assign_centroid(data, centroids):\n",
    "    '''\n",
    "    Receives a dataframe of data and centroids and returns a list assigning each observation a centroid.\n",
    "    data: a dataframe with all data that will be used.\n",
    "    centroids: a dataframe with the centroids. For assignment the index will be used.\n",
    "    '''\n",
    "\n",
    "    n_observations = data.shape[0]\n",
    "    centroid_assign = []\n",
    "    centroid_errors = []\n",
    "    k = centroids.shape[0]\n",
    "\n",
    "\n",
    "    for observation in range(n_observations):\n",
    "\n",
    "        # Calculate the errror\n",
    "        errors = np.array([])\n",
    "        for centroid in range(k):\n",
    "            error = calculate_error(centroids.iloc[centroid, :2], data.iloc[observation,:2])\n",
    "            errors = np.append(errors, error)\n",
    "\n",
    "        # Calculate closest centroid & error \n",
    "        closest_centroid =  np.where(errors == np.amin(errors))[0].tolist()[0]\n",
    "        centroid_error = np.amin(errors)\n",
    "\n",
    "        # Assign values to lists\n",
    "        centroid_assign.append(closest_centroid)\n",
    "        centroid_errors.append(centroid_error)\n",
    "\n",
    "    return (centroid_assign,centroid_errors)\n",
    "\n",
    "def initialize_centroids(k, data):\n",
    "\n",
    "    n_dims = data.shape[1]\n",
    "    centroid_min = data.min().min()\n",
    "    centroid_max = data.max().max()\n",
    "    centroids = []\n",
    "\n",
    "    for centroid in range(k):\n",
    "        centroid = np.random.uniform(centroid_min, centroid_max, n_dims)\n",
    "        centroids.append(centroid)\n",
    "\n",
    "    centroids = pd.DataFrame(centroids, columns = data.columns)\n",
    "\n",
    "    return centroids\n",
    "\n",
    "\n",
    "def knn(data, k):\n",
    "    '''\n",
    "    Given a dataset and number of clusters, it clusterizes the data. \n",
    "    data: a DataFrame with all information necessary\n",
    "    k: number of clusters to create\n",
    "    '''\n",
    "\n",
    "    # Initialize centroids and error\n",
    "    centroids = initialize_centroids(k, data)\n",
    "    error = []\n",
    "    compr = True\n",
    "    i = 0\n",
    "\n",
    "    while(compr):\n",
    "        # Obtain centroids and error\n",
    "        data['centroid'], iter_error = assign_centroid(data,centroids)\n",
    "        error.append(sum(iter_error))\n",
    "        # Recalculate centroids\n",
    "        centroids = data.groupby('centroid').agg('mean').reset_index(drop = True)\n",
    "\n",
    "        # Check if the error has decreased\n",
    "        if(len(error)<2):\n",
    "            compr = True\n",
    "        else:\n",
    "            if(round(error[i],3) !=  round(error[i-1],3)):\n",
    "                compr = True\n",
    "            else:\n",
    "                compr = False\n",
    "        i = i + 1 \n",
    "\n",
    "    data['centroid'], iter_error = assign_centroid(data,centroids)\n",
    "    centroids = data.groupby('centroid').agg('mean').reset_index(drop = True)\n",
    "    return (data['centroid'], iter_error, centroids)"
   ]
  },
  {
   "cell_type": "code",
   "execution_count": 128,
   "metadata": {},
   "outputs": [],
   "source": [
    "\n",
    "small_iris_data = pd.read_csv(\"/Users/ahmadzarzar/Maskin_lärning_kurs/Deep lärning Linjär_reg/CSV/small_iris.csv\")\n"
   ]
  },
  {
   "cell_type": "code",
   "execution_count": 129,
   "metadata": {},
   "outputs": [
    {
     "data": {
      "text/plain": [
       "(150, 2)"
      ]
     },
     "execution_count": 129,
     "metadata": {},
     "output_type": "execute_result"
    }
   ],
   "source": [
    "small_iris_data.shape"
   ]
  },
  {
   "cell_type": "code",
   "execution_count": 130,
   "metadata": {},
   "outputs": [
    {
     "data": {
      "text/html": [
       "<div>\n",
       "<style scoped>\n",
       "    .dataframe tbody tr th:only-of-type {\n",
       "        vertical-align: middle;\n",
       "    }\n",
       "\n",
       "    .dataframe tbody tr th {\n",
       "        vertical-align: top;\n",
       "    }\n",
       "\n",
       "    .dataframe thead th {\n",
       "        text-align: right;\n",
       "    }\n",
       "</style>\n",
       "<table border=\"1\" class=\"dataframe\">\n",
       "  <thead>\n",
       "    <tr style=\"text-align: right;\">\n",
       "      <th></th>\n",
       "      <th>sepal length (cm)</th>\n",
       "      <th>petal length (cm)</th>\n",
       "    </tr>\n",
       "  </thead>\n",
       "  <tbody>\n",
       "    <tr>\n",
       "      <th>0</th>\n",
       "      <td>5.1</td>\n",
       "      <td>1.4</td>\n",
       "    </tr>\n",
       "    <tr>\n",
       "      <th>1</th>\n",
       "      <td>4.9</td>\n",
       "      <td>1.4</td>\n",
       "    </tr>\n",
       "    <tr>\n",
       "      <th>2</th>\n",
       "      <td>4.7</td>\n",
       "      <td>1.3</td>\n",
       "    </tr>\n",
       "    <tr>\n",
       "      <th>3</th>\n",
       "      <td>4.6</td>\n",
       "      <td>1.5</td>\n",
       "    </tr>\n",
       "    <tr>\n",
       "      <th>4</th>\n",
       "      <td>5.0</td>\n",
       "      <td>1.4</td>\n",
       "    </tr>\n",
       "  </tbody>\n",
       "</table>\n",
       "</div>"
      ],
      "text/plain": [
       "   sepal length (cm)  petal length (cm)\n",
       "0                5.1                1.4\n",
       "1                4.9                1.4\n",
       "2                4.7                1.3\n",
       "3                4.6                1.5\n",
       "4                5.0                1.4"
      ]
     },
     "execution_count": 130,
     "metadata": {},
     "output_type": "execute_result"
    }
   ],
   "source": [
    "small_iris_data.head()"
   ]
  },
  {
   "cell_type": "markdown",
   "metadata": {},
   "source": [
    "### Innehåller datan konstiga värden?"
   ]
  },
  {
   "cell_type": "code",
   "execution_count": 131,
   "metadata": {},
   "outputs": [
    {
     "data": {
      "text/plain": [
       "array([[<AxesSubplot:title={'center':'sepal length (cm)'}>,\n",
       "        <AxesSubplot:title={'center':'petal length (cm)'}>]], dtype=object)"
      ]
     },
     "execution_count": 131,
     "metadata": {},
     "output_type": "execute_result"
    },
    {
     "data": {
      "image/png": "[encoded data removed]",
      "text/plain": [
       "<Figure size 432x288 with 2 Axes>"
      ]
     },
     "metadata": {
      "needs_background": "light"
     },
     "output_type": "display_data"
    }
   ],
   "source": [
    "small_iris_data.hist(bins=40)"
   ]
  },
  {
   "cell_type": "code",
   "execution_count": 132,
   "metadata": {},
   "outputs": [
    {
     "name": "stdout",
     "output_type": "stream",
     "text": [
      "***Small iris***\n",
      "False    123\n",
      "True      27\n",
      "dtype: int64\n"
     ]
    }
   ],
   "source": [
    "print(f'***Small iris***\\n{small_iris_data.duplicated().value_counts()}')"
   ]
  },
  {
   "cell_type": "code",
   "execution_count": 133,
   "metadata": {},
   "outputs": [
    {
     "data": {
      "text/plain": [
       "[<matplotlib.lines.Line2D at 0x28c4eab30>,\n",
       " <matplotlib.lines.Line2D at 0x28c4eab90>,\n",
       " <matplotlib.lines.Line2D at 0x28c4eacb0>,\n",
       " <matplotlib.lines.Line2D at 0x28c4eadd0>,\n",
       " <matplotlib.lines.Line2D at 0x28c4eaef0>,\n",
       " <matplotlib.lines.Line2D at 0x28c4eb010>,\n",
       " <matplotlib.lines.Line2D at 0x28c4eb130>,\n",
       " <matplotlib.lines.Line2D at 0x28c4eb250>,\n",
       " <matplotlib.lines.Line2D at 0x28c4eb370>,\n",
       " <matplotlib.lines.Line2D at 0x28c4eb490>,\n",
       " <matplotlib.lines.Line2D at 0x28c4eb5b0>,\n",
       " <matplotlib.lines.Line2D at 0x28c4eab60>,\n",
       " <matplotlib.lines.Line2D at 0x28c4eb7c0>,\n",
       " <matplotlib.lines.Line2D at 0x28c4eb8e0>,\n",
       " <matplotlib.lines.Line2D at 0x28c4eba00>,\n",
       " <matplotlib.lines.Line2D at 0x28c4ebb20>,\n",
       " <matplotlib.lines.Line2D at 0x28c4ebc40>,\n",
       " <matplotlib.lines.Line2D at 0x28c4b3250>,\n",
       " <matplotlib.lines.Line2D at 0x28c4b30d0>,\n",
       " <matplotlib.lines.Line2D at 0x28c4e89d0>,\n",
       " <matplotlib.lines.Line2D at 0x28c4ebfa0>,\n",
       " <matplotlib.lines.Line2D at 0x28c510100>,\n",
       " <matplotlib.lines.Line2D at 0x28c510220>,\n",
       " <matplotlib.lines.Line2D at 0x28c510340>,\n",
       " <matplotlib.lines.Line2D at 0x28c510460>,\n",
       " <matplotlib.lines.Line2D at 0x28c510580>,\n",
       " <matplotlib.lines.Line2D at 0x28c5106a0>,\n",
       " <matplotlib.lines.Line2D at 0x28c5107c0>,\n",
       " <matplotlib.lines.Line2D at 0x28c5108e0>,\n",
       " <matplotlib.lines.Line2D at 0x28c510a00>,\n",
       " <matplotlib.lines.Line2D at 0x28c510b20>,\n",
       " <matplotlib.lines.Line2D at 0x28c510c40>,\n",
       " <matplotlib.lines.Line2D at 0x28c510d60>,\n",
       " <matplotlib.lines.Line2D at 0x28c510e80>,\n",
       " <matplotlib.lines.Line2D at 0x28c510fa0>,\n",
       " <matplotlib.lines.Line2D at 0x28c5110c0>,\n",
       " <matplotlib.lines.Line2D at 0x28c5111e0>,\n",
       " <matplotlib.lines.Line2D at 0x28c511300>,\n",
       " <matplotlib.lines.Line2D at 0x28c511420>,\n",
       " <matplotlib.lines.Line2D at 0x28c511540>,\n",
       " <matplotlib.lines.Line2D at 0x28c511660>,\n",
       " <matplotlib.lines.Line2D at 0x28c511780>,\n",
       " <matplotlib.lines.Line2D at 0x28c5118a0>,\n",
       " <matplotlib.lines.Line2D at 0x28c5119c0>,\n",
       " <matplotlib.lines.Line2D at 0x28c511ae0>,\n",
       " <matplotlib.lines.Line2D at 0x28c511c00>,\n",
       " <matplotlib.lines.Line2D at 0x28c511d20>,\n",
       " <matplotlib.lines.Line2D at 0x28c511e40>,\n",
       " <matplotlib.lines.Line2D at 0x28c511f60>,\n",
       " <matplotlib.lines.Line2D at 0x28c512080>,\n",
       " <matplotlib.lines.Line2D at 0x28c5121a0>,\n",
       " <matplotlib.lines.Line2D at 0x28c5122c0>,\n",
       " <matplotlib.lines.Line2D at 0x28c5123e0>,\n",
       " <matplotlib.lines.Line2D at 0x28c512500>,\n",
       " <matplotlib.lines.Line2D at 0x28c512620>,\n",
       " <matplotlib.lines.Line2D at 0x28c512740>,\n",
       " <matplotlib.lines.Line2D at 0x28c512860>,\n",
       " <matplotlib.lines.Line2D at 0x28c512980>,\n",
       " <matplotlib.lines.Line2D at 0x28c512aa0>,\n",
       " <matplotlib.lines.Line2D at 0x28c512bc0>,\n",
       " <matplotlib.lines.Line2D at 0x28c512ce0>,\n",
       " <matplotlib.lines.Line2D at 0x28c512e00>,\n",
       " <matplotlib.lines.Line2D at 0x28c512f20>,\n",
       " <matplotlib.lines.Line2D at 0x28c513040>,\n",
       " <matplotlib.lines.Line2D at 0x28c513160>,\n",
       " <matplotlib.lines.Line2D at 0x28c513280>,\n",
       " <matplotlib.lines.Line2D at 0x28c5133a0>,\n",
       " <matplotlib.lines.Line2D at 0x28c5134c0>,\n",
       " <matplotlib.lines.Line2D at 0x28c5135e0>,\n",
       " <matplotlib.lines.Line2D at 0x28c513700>,\n",
       " <matplotlib.lines.Line2D at 0x28c513820>,\n",
       " <matplotlib.lines.Line2D at 0x28c513940>,\n",
       " <matplotlib.lines.Line2D at 0x28c513a60>,\n",
       " <matplotlib.lines.Line2D at 0x28c513b80>,\n",
       " <matplotlib.lines.Line2D at 0x28c513ca0>,\n",
       " <matplotlib.lines.Line2D at 0x28c513dc0>,\n",
       " <matplotlib.lines.Line2D at 0x28c513ee0>,\n",
       " <matplotlib.lines.Line2D at 0x28c524040>,\n",
       " <matplotlib.lines.Line2D at 0x28c524160>,\n",
       " <matplotlib.lines.Line2D at 0x28c524280>,\n",
       " <matplotlib.lines.Line2D at 0x28c5243a0>,\n",
       " <matplotlib.lines.Line2D at 0x28c5244c0>,\n",
       " <matplotlib.lines.Line2D at 0x28c5245e0>,\n",
       " <matplotlib.lines.Line2D at 0x28c524700>,\n",
       " <matplotlib.lines.Line2D at 0x28c524820>,\n",
       " <matplotlib.lines.Line2D at 0x28c524940>,\n",
       " <matplotlib.lines.Line2D at 0x28c524a60>,\n",
       " <matplotlib.lines.Line2D at 0x28c524b80>,\n",
       " <matplotlib.lines.Line2D at 0x28c524ca0>,\n",
       " <matplotlib.lines.Line2D at 0x28c524dc0>,\n",
       " <matplotlib.lines.Line2D at 0x28c524ee0>,\n",
       " <matplotlib.lines.Line2D at 0x28c525000>,\n",
       " <matplotlib.lines.Line2D at 0x28c525120>,\n",
       " <matplotlib.lines.Line2D at 0x28c525240>,\n",
       " <matplotlib.lines.Line2D at 0x28c525360>,\n",
       " <matplotlib.lines.Line2D at 0x28c525480>,\n",
       " <matplotlib.lines.Line2D at 0x28c5255a0>,\n",
       " <matplotlib.lines.Line2D at 0x28c5256c0>,\n",
       " <matplotlib.lines.Line2D at 0x28c5257e0>,\n",
       " <matplotlib.lines.Line2D at 0x28c525900>,\n",
       " <matplotlib.lines.Line2D at 0x28c525a20>,\n",
       " <matplotlib.lines.Line2D at 0x28c525b40>,\n",
       " <matplotlib.lines.Line2D at 0x28c525c60>,\n",
       " <matplotlib.lines.Line2D at 0x28c525d80>,\n",
       " <matplotlib.lines.Line2D at 0x28c525ea0>,\n",
       " <matplotlib.lines.Line2D at 0x28c525fc0>,\n",
       " <matplotlib.lines.Line2D at 0x28c5260e0>,\n",
       " <matplotlib.lines.Line2D at 0x28c526200>,\n",
       " <matplotlib.lines.Line2D at 0x28c526320>,\n",
       " <matplotlib.lines.Line2D at 0x28c526440>,\n",
       " <matplotlib.lines.Line2D at 0x28c526560>,\n",
       " <matplotlib.lines.Line2D at 0x28c526680>,\n",
       " <matplotlib.lines.Line2D at 0x28c5267a0>,\n",
       " <matplotlib.lines.Line2D at 0x28c5268c0>,\n",
       " <matplotlib.lines.Line2D at 0x28c5269e0>,\n",
       " <matplotlib.lines.Line2D at 0x28c526b00>,\n",
       " <matplotlib.lines.Line2D at 0x28c526c20>,\n",
       " <matplotlib.lines.Line2D at 0x28c526d40>,\n",
       " <matplotlib.lines.Line2D at 0x28c526e60>,\n",
       " <matplotlib.lines.Line2D at 0x28c526f80>,\n",
       " <matplotlib.lines.Line2D at 0x28c5270a0>,\n",
       " <matplotlib.lines.Line2D at 0x28c5271c0>,\n",
       " <matplotlib.lines.Line2D at 0x28c5272e0>,\n",
       " <matplotlib.lines.Line2D at 0x28c527400>,\n",
       " <matplotlib.lines.Line2D at 0x28c527520>,\n",
       " <matplotlib.lines.Line2D at 0x28c527640>,\n",
       " <matplotlib.lines.Line2D at 0x28c527760>,\n",
       " <matplotlib.lines.Line2D at 0x28c527880>,\n",
       " <matplotlib.lines.Line2D at 0x28c5279a0>,\n",
       " <matplotlib.lines.Line2D at 0x28c527ac0>,\n",
       " <matplotlib.lines.Line2D at 0x28c527be0>,\n",
       " <matplotlib.lines.Line2D at 0x28c527d00>,\n",
       " <matplotlib.lines.Line2D at 0x28c527e20>,\n",
       " <matplotlib.lines.Line2D at 0x28c527f40>,\n",
       " <matplotlib.lines.Line2D at 0x28c53c0a0>,\n",
       " <matplotlib.lines.Line2D at 0x28c53c1c0>,\n",
       " <matplotlib.lines.Line2D at 0x28c53c2e0>,\n",
       " <matplotlib.lines.Line2D at 0x28c53c400>,\n",
       " <matplotlib.lines.Line2D at 0x28c53c520>,\n",
       " <matplotlib.lines.Line2D at 0x28c53c640>,\n",
       " <matplotlib.lines.Line2D at 0x28c53c760>,\n",
       " <matplotlib.lines.Line2D at 0x28c53c880>,\n",
       " <matplotlib.lines.Line2D at 0x28c53c9a0>,\n",
       " <matplotlib.lines.Line2D at 0x28c53cac0>,\n",
       " <matplotlib.lines.Line2D at 0x28c53cbe0>,\n",
       " <matplotlib.lines.Line2D at 0x28c53cd00>,\n",
       " <matplotlib.lines.Line2D at 0x28c53ce20>,\n",
       " <matplotlib.lines.Line2D at 0x28c53cf40>,\n",
       " <matplotlib.lines.Line2D at 0x28c53d060>,\n",
       " <matplotlib.lines.Line2D at 0x28c53d180>]"
      ]
     },
     "execution_count": 133,
     "metadata": {},
     "output_type": "execute_result"
    },
    {
     "data": {
      "image/png": "[encoded data removed]",
      "text/plain": [
       "<Figure size 720x360 with 1 Axes>"
      ]
     },
     "metadata": {
      "needs_background": "light"
     },
     "output_type": "display_data"
    }
   ],
   "source": [
    "total_errors = []\n",
    "for i in range(10):\n",
    "    _,it_error, _= knn(small_iris_data[['sepal length (cm)','petal length (cm)']],i+1) \n",
    "    total_errors.append(it_error)\n",
    "plt.figure(figsize=(10,5))\n",
    "plt.plot(range(1,11), total_errors)"
   ]
  },
  {
   "cell_type": "code",
   "execution_count": 134,
   "metadata": {},
   "outputs": [
    {
     "data": {
      "text/plain": [
       "0    1\n",
       "1    1\n",
       "2    1\n",
       "3    1\n",
       "4    1\n",
       "Name: centroid, dtype: int64"
      ]
     },
     "execution_count": 134,
     "metadata": {},
     "output_type": "execute_result"
    }
   ],
   "source": [
    "small_iris_data['centroid'], _, centroids =  knn(small_iris_data,3)\n",
    "small_iris_data['centroid'].head()          "
   ]
  },
  {
   "cell_type": "code",
   "execution_count": 135,
   "metadata": {},
   "outputs": [
    {
     "data": {
      "text/plain": [
       "<matplotlib.collections.PathCollection at 0x28c6698a0>"
      ]
     },
     "execution_count": 135,
     "metadata": {},
     "output_type": "execute_result"
    },
    {
     "data": {
      "image/png": "[encoded data removed]",
      "text/plain": [
       "<Figure size 432x288 with 1 Axes>"
      ]
     },
     "metadata": {
      "needs_background": "light"
     },
     "output_type": "display_data"
    }
   ],
   "source": [
    "colors = {0:'red', 1:'blue', 2:'green',3:'yellow'}\n",
    "plt.scatter(small_iris_data.iloc[:,0], small_iris_data.iloc[:,1],  marker = '*', c = small_iris_data['centroid'].apply(lambda x: colors[x]), alpha = 1)\n",
    "plt.scatter(centroids.iloc[:,0], centroids.iloc[:,1],  marker = '*', s=300, \n",
    "           c = centroids.index.map(lambda x: colors[x]))"
   ]
  },
  {
   "cell_type": "code",
   "execution_count": 136,
   "metadata": {},
   "outputs": [
    {
     "data": {
      "text/plain": [
       "<AxesSubplot:xlabel='sepal length (cm)', ylabel='petal length (cm)'>"
      ]
     },
     "execution_count": 136,
     "metadata": {},
     "output_type": "execute_result"
    },
    {
     "data": {
      "image/png": "[encoded data removed]",
      "text/plain": [
       "<Figure size 432x288 with 1 Axes>"
      ]
     },
     "metadata": {
      "needs_background": "light"
     },
     "output_type": "display_data"
    }
   ],
   "source": [
    "\n",
    "small_iris_data.plot.scatter(x=\"sepal length (cm)\", y = \"petal length (cm)\")\n"
   ]
  },
  {
   "cell_type": "code",
   "execution_count": null,
   "metadata": {},
   "outputs": [],
   "source": []
  }
 ],
 "metadata": {
  "interpreter": {
   "hash": "aee8b7b246df8f9039afb4144a1f6fd8d2ca17a180786b69acc140d282b71a49"
  },
  "kernelspec": {
   "display_name": "Python 3.10.1 64-bit",
   "language": "python",
   "name": "python3"
  },
  "language_info": {
   "codemirror_mode": {
    "name": "ipython",
    "version": 3
   },
   "file_extension": ".py",
   "mimetype": "text/x-python",
   "name": "python",
   "nbconvert_exporter": "python",
   "pygments_lexer": "ipython3",
   "version": "3.10.1"
  },
  "orig_nbformat": 4
 },
 "nbformat": 4,
 "nbformat_minor": 2
}
